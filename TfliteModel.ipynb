{
 "cells": [
  {
   "cell_type": "code",
   "execution_count": 51,
   "id": "f4a38d59-f437-4106-bfe1-cf160ea9e49c",
   "metadata": {},
   "outputs": [
    {
     "name": "stdout",
     "output_type": "stream",
     "text": [
      "TFLite Prediction: [[33.13152]]\n"
     ]
    },
    {
     "name": "stderr",
     "output_type": "stream",
     "text": [
      "/home/zoro/anaconda3/lib/python3.12/site-packages/sklearn/base.py:493: UserWarning: X does not have valid feature names, but StandardScaler was fitted with feature names\n",
      "  warnings.warn(\n",
      "/home/zoro/anaconda3/lib/python3.12/site-packages/tensorflow/lite/python/interpreter.py:457: UserWarning:     Warning: tf.lite.Interpreter is deprecated and is scheduled for deletion in\n",
      "    TF 2.20. Please use the LiteRT interpreter from the ai_edge_litert package.\n",
      "    See the [migration guide](https://ai.google.dev/edge/litert/migration)\n",
      "    for details.\n",
      "    \n",
      "  warnings.warn(_INTERPRETER_DELETION_WARNING)\n"
     ]
    }
   ],
   "source": [
    "import numpy as np\n",
    "import tensorflow as tf\n",
    "import joblib\n",
    "\n",
    "# Load the saved StandardScaler\n",
    "scaler = joblib.load(\"scaler.pkl\")\n",
    "\n",
    "# Given input values\n",
    "temp = 28.2\n",
    "humidity = 25\n",
    "ozone_lag1 = 33.17\n",
    "op2 = 228\n",
    "op1 = 256\n",
    "\n",
    "# Compute THI (if used in training)\n",
    "thi = 0.8 * temp + (humidity * (temp - 14.4)) / 100 + 46.4\n",
    "\n",
    "# Combine features (modify based on feature order in training)\n",
    "input_features = np.array([[op1,temp,thi,ozone_lag1,op2]])\n",
    "\n",
    "# Apply scaling using StandardScaler\n",
    "input_features_scaled = scaler.transform(input_features)\n",
    "\n",
    "# Convert to float32 (TFLite expects float32 input)\n",
    "input_features_scaled = input_features_scaled.astype(np.float32)\n",
    "\n",
    "# Load TFLite model\n",
    "interpreter = tf.lite.Interpreter(model_path=\"quantized_model.tflite\")\n",
    "interpreter.allocate_tensors()\n",
    "\n",
    "# Get input/output tensor details\n",
    "input_details = interpreter.get_input_details()\n",
    "output_details = interpreter.get_output_details()\n",
    "\n",
    "# Set input tensor\n",
    "interpreter.set_tensor(input_details[0]['index'], input_features_scaled)\n",
    "\n",
    "# Run inference\n",
    "interpreter.invoke()\n",
    "\n",
    "# Get prediction\n",
    "tflite_output = interpreter.get_tensor(output_details[0]['index'])\n",
    "print(\"TFLite Prediction:\", tflite_output)"
   ]
  },
  {
   "cell_type": "code",
   "execution_count": 53,
   "id": "b6d636d8-0b67-4519-9b80-39a39008f057",
   "metadata": {},
   "outputs": [
    {
     "name": "stdout",
     "output_type": "stream",
     "text": [
      "TFLite Prediction: [[35.44919]]\n"
     ]
    },
    {
     "name": "stderr",
     "output_type": "stream",
     "text": [
      "/home/zoro/anaconda3/lib/python3.12/site-packages/sklearn/base.py:493: UserWarning: X does not have valid feature names, but StandardScaler was fitted with feature names\n",
      "  warnings.warn(\n",
      "/home/zoro/anaconda3/lib/python3.12/site-packages/tensorflow/lite/python/interpreter.py:457: UserWarning:     Warning: tf.lite.Interpreter is deprecated and is scheduled for deletion in\n",
      "    TF 2.20. Please use the LiteRT interpreter from the ai_edge_litert package.\n",
      "    See the [migration guide](https://ai.google.dev/edge/litert/migration)\n",
      "    for details.\n",
      "    \n",
      "  warnings.warn(_INTERPRETER_DELETION_WARNING)\n"
     ]
    }
   ],
   "source": [
    "import numpy as np\n",
    "import tensorflow as tf\n",
    "import joblib\n",
    "\n",
    "# Load the saved StandardScaler\n",
    "scaler = joblib.load(\"scaler.pkl\")\n",
    "\n",
    "# Given input values\n",
    "temp = 30.2\n",
    "humidity = 19.4\n",
    "ozone_lag1 = 35.51\n",
    "op2 = 226\n",
    "op1 = 254\n",
    "\n",
    "# Compute THI (if used in training)\n",
    "thi = 0.8 * temp + (humidity * (temp - 14.4)) / 100 + 46.4\n",
    "\n",
    "# Combine features (modify based on feature order in training)\n",
    "input_features = np.array([[op1,temp,thi,ozone_lag1,op2]])\n",
    "\n",
    "# Apply scaling using StandardScaler\n",
    "input_features_scaled = scaler.transform(input_features)\n",
    "\n",
    "# Convert to float32 (TFLite expects float32 input)\n",
    "input_features_scaled = input_features_scaled.astype(np.float32)\n",
    "\n",
    "# Load TFLite model\n",
    "interpreter = tf.lite.Interpreter(model_path=\"quantized_model.tflite\")\n",
    "interpreter.allocate_tensors()\n",
    "\n",
    "# Get input/output tensor details\n",
    "input_details = interpreter.get_input_details()\n",
    "output_details = interpreter.get_output_details()\n",
    "\n",
    "# Set input tensor\n",
    "interpreter.set_tensor(input_details[0]['index'], input_features_scaled)\n",
    "\n",
    "# Run inference\n",
    "interpreter.invoke()\n",
    "\n",
    "# Get prediction\n",
    "tflite_output = interpreter.get_tensor(output_details[0]['index'])\n",
    "print(\"TFLite Prediction:\", tflite_output)"
   ]
  },
  {
   "cell_type": "code",
   "execution_count": null,
   "id": "03670ad5-c436-45a1-b615-ca37772e8bd7",
   "metadata": {},
   "outputs": [],
   "source": []
  }
 ],
 "metadata": {
  "kernelspec": {
   "display_name": "Python [conda env:base] *",
   "language": "python",
   "name": "conda-base-py"
  },
  "language_info": {
   "codemirror_mode": {
    "name": "ipython",
    "version": 3
   },
   "file_extension": ".py",
   "mimetype": "text/x-python",
   "name": "python",
   "nbconvert_exporter": "python",
   "pygments_lexer": "ipython3",
   "version": "3.12.7"
  }
 },
 "nbformat": 4,
 "nbformat_minor": 5
}
